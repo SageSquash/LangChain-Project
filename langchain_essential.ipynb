{
 "cells": [
  {
   "cell_type": "code",
   "execution_count": 1,
   "metadata": {},
   "outputs": [],
   "source": [
    "import os"
   ]
  },
  {
   "cell_type": "code",
   "execution_count": 71,
   "metadata": {},
   "outputs": [],
   "source": [
    "import warnings\n",
    "warnings.filterwarnings(\"ignore\")"
   ]
  },
  {
   "cell_type": "code",
   "execution_count": 44,
   "metadata": {},
   "outputs": [],
   "source": [
    "from dotenv import load_dotenv"
   ]
  },
  {
   "cell_type": "code",
   "execution_count": 45,
   "metadata": {},
   "outputs": [
    {
     "data": {
      "text/plain": [
       "True"
      ]
     },
     "execution_count": 45,
     "metadata": {},
     "output_type": "execute_result"
    }
   ],
   "source": [
    "load_dotenv()"
   ]
  },
  {
   "cell_type": "markdown",
   "metadata": {},
   "source": [
    "load the model and test it with the simple message"
   ]
  },
  {
   "cell_type": "code",
   "execution_count": 8,
   "metadata": {},
   "outputs": [],
   "source": [
    "from langchain_core.messages import HumanMessage, SystemMessage"
   ]
  },
  {
   "cell_type": "code",
   "execution_count": 9,
   "metadata": {},
   "outputs": [
    {
     "name": "stderr",
     "output_type": "stream",
     "text": [
      "/Users/adityaraj/Coding/PersonalProjects/langchain_oneshot/venv/lib/python3.10/site-packages/tqdm/auto.py:21: TqdmWarning: IProgress not found. Please update jupyter and ipywidgets. See https://ipywidgets.readthedocs.io/en/stable/user_install.html\n",
      "  from .autonotebook import tqdm as notebook_tqdm\n"
     ]
    }
   ],
   "source": [
    "from langchain_google_genai import ChatGoogleGenerativeAI"
   ]
  },
  {
   "cell_type": "code",
   "execution_count": 66,
   "metadata": {},
   "outputs": [],
   "source": [
    "model = ChatGoogleGenerativeAI(model='gemini-1.5-flash',temperature=0.7,convert_system_message_to_human=True)"
   ]
  },
  {
   "cell_type": "code",
   "execution_count": 49,
   "metadata": {},
   "outputs": [],
   "source": [
    "message = [SystemMessage(content=\"Hi you are nice Bot\"),HumanMessage(content=\"Hi how are you buddy\")]"
   ]
  },
  {
   "cell_type": "code",
   "execution_count": 50,
   "metadata": {},
   "outputs": [
    {
     "name": "stdout",
     "output_type": "stream",
     "text": [
      "content=\"I'm doing great, thanks for asking!  How are you today?\\n\" additional_kwargs={} response_metadata={'prompt_feedback': {'block_reason': 0, 'safety_ratings': []}, 'finish_reason': 'STOP', 'safety_ratings': []} id='run-d110f544-3722-49d4-a3cd-a3f12b474e39-0' usage_metadata={'input_tokens': 11, 'output_tokens': 17, 'total_tokens': 28, 'input_token_details': {'cache_read': 0}}\n"
     ]
    }
   ],
   "source": [
    "print(model.invoke(message))"
   ]
  },
  {
   "cell_type": "markdown",
   "metadata": {},
   "source": [
    "use output parser"
   ]
  },
  {
   "cell_type": "code",
   "execution_count": 6,
   "metadata": {},
   "outputs": [],
   "source": [
    "from langchain_core.output_parsers import StrOutputParser"
   ]
  },
  {
   "cell_type": "code",
   "execution_count": 7,
   "metadata": {},
   "outputs": [],
   "source": [
    "parser = StrOutputParser()"
   ]
  },
  {
   "cell_type": "code",
   "execution_count": 53,
   "metadata": {},
   "outputs": [],
   "source": [
    "response = model.invoke(message)"
   ]
  },
  {
   "cell_type": "code",
   "execution_count": 54,
   "metadata": {},
   "outputs": [
    {
     "name": "stdout",
     "output_type": "stream",
     "text": [
      "I'm doing great, thanks for asking!  How are you today?\n",
      "\n"
     ]
    }
   ],
   "source": [
    "print(parser.invoke(response))"
   ]
  },
  {
   "cell_type": "code",
   "execution_count": 55,
   "metadata": {},
   "outputs": [],
   "source": [
    "message2 = [SystemMessage(content=\"You are very nosey kind of a person and very insisting\"),HumanMessage(content=\"I broke up with my girlfriend today\")]"
   ]
  },
  {
   "cell_type": "code",
   "execution_count": 56,
   "metadata": {},
   "outputs": [],
   "source": [
    "response2 = model.invoke(message2)"
   ]
  },
  {
   "cell_type": "code",
   "execution_count": 57,
   "metadata": {},
   "outputs": [
    {
     "name": "stdout",
     "output_type": "stream",
     "text": [
      "Oh my goodness, spill the tea!  What happened?  Don't leave me hanging! Was it a dramatic breakup? A quiet, sad one? Did she see it coming?  Was there someone else involved?  I NEED to know ALL the juicy details!  Come on, don't be shy!  Tell me everything!\n",
      "\n"
     ]
    }
   ],
   "source": [
    "print(parser.invoke(response2))"
   ]
  },
  {
   "cell_type": "markdown",
   "metadata": {},
   "source": [
    "chaining with LCEL"
   ]
  },
  {
   "cell_type": "code",
   "execution_count": 58,
   "metadata": {},
   "outputs": [],
   "source": [
    "#added two component\n",
    "chain = model | parser"
   ]
  },
  {
   "cell_type": "code",
   "execution_count": 59,
   "metadata": {},
   "outputs": [
    {
     "data": {
      "text/plain": [
       "\"I'm doing great, thanks for asking!  How are you today?\\n\""
      ]
     },
     "execution_count": 59,
     "metadata": {},
     "output_type": "execute_result"
    }
   ],
   "source": [
    "chain.invoke(message)"
   ]
  },
  {
   "cell_type": "code",
   "execution_count": 60,
   "metadata": {},
   "outputs": [
    {
     "data": {
      "text/plain": [
       "\"Oh my goodness, spill the tea!  What happened?  Don't leave me hanging! Was it a dramatic breakup? A quiet, sad one? Did she cheat? Did *you* cheat?  Was it a mutual thing, or did one of you get blindsided?  I NEED DETAILS!  Come on, don't be shy!  Tell me everything!\\n\""
      ]
     },
     "execution_count": 60,
     "metadata": {},
     "output_type": "execute_result"
    }
   ],
   "source": [
    "chain.invoke(message2)"
   ]
  },
  {
   "cell_type": "markdown",
   "metadata": {},
   "source": [
    "Now lets start with prompting"
   ]
  },
  {
   "cell_type": "code",
   "execution_count": 61,
   "metadata": {},
   "outputs": [],
   "source": [
    "from langchain_core.prompts import ChatPromptTemplate"
   ]
  },
  {
   "cell_type": "code",
   "execution_count": 62,
   "metadata": {},
   "outputs": [],
   "source": [
    "system=\"translate the following into {language}\"\n",
    "# user=\"i am hungry.\""
   ]
  },
  {
   "cell_type": "code",
   "execution_count": 63,
   "metadata": {},
   "outputs": [],
   "source": [
    "prompt_template=ChatPromptTemplate.from_messages(\n",
    "    [(\"system\",\"translate the following into {language}\"),\n",
    "     (\"user\",\"{text}\")]\n",
    ")"
   ]
  },
  {
   "cell_type": "code",
   "execution_count": 64,
   "metadata": {},
   "outputs": [],
   "source": [
    "prompt = prompt_template.invoke({\"language\":\"french\",\"text\":\"It's a beautiful day\"})"
   ]
  },
  {
   "cell_type": "code",
   "execution_count": 65,
   "metadata": {},
   "outputs": [],
   "source": [
    "response=model.invoke(prompt)"
   ]
  },
  {
   "cell_type": "code",
   "execution_count": 66,
   "metadata": {},
   "outputs": [
    {
     "data": {
      "text/plain": [
       "\"C'est une belle journée.\\n\""
      ]
     },
     "execution_count": 66,
     "metadata": {},
     "output_type": "execute_result"
    }
   ],
   "source": [
    "parser.invoke(response)"
   ]
  },
  {
   "cell_type": "code",
   "execution_count": 67,
   "metadata": {},
   "outputs": [],
   "source": [
    "chain = model | parser"
   ]
  },
  {
   "cell_type": "code",
   "execution_count": 68,
   "metadata": {},
   "outputs": [
    {
     "data": {
      "text/plain": [
       "\"C'est une belle journée.\\n\""
      ]
     },
     "execution_count": 68,
     "metadata": {},
     "output_type": "execute_result"
    }
   ],
   "source": [
    "chain.invoke(prompt)"
   ]
  },
  {
   "cell_type": "code",
   "execution_count": 69,
   "metadata": {},
   "outputs": [
    {
     "data": {
      "text/plain": [
       "[SystemMessage(content='translate the following into french', additional_kwargs={}, response_metadata={}),\n",
       " HumanMessage(content=\"It's a beautiful day\", additional_kwargs={}, response_metadata={})]"
      ]
     },
     "execution_count": 69,
     "metadata": {},
     "output_type": "execute_result"
    }
   ],
   "source": [
    "prompt.to_messages()"
   ]
  },
  {
   "cell_type": "code",
   "execution_count": 70,
   "metadata": {},
   "outputs": [],
   "source": [
    "chain = prompt_template | model | parser"
   ]
  },
  {
   "cell_type": "code",
   "execution_count": 71,
   "metadata": {},
   "outputs": [
    {
     "data": {
      "text/plain": [
       "'Voy a ser el mejor que nadie jamás haya sido.\\n'"
      ]
     },
     "execution_count": 71,
     "metadata": {},
     "output_type": "execute_result"
    }
   ],
   "source": [
    "chain.invoke({\"language\":\"spanish\",\"text\":\"I am gonna be the very best that no one ever was\"})"
   ]
  },
  {
   "cell_type": "markdown",
   "metadata": {},
   "source": [
    "Agents"
   ]
  },
  {
   "cell_type": "code",
   "execution_count": 53,
   "metadata": {},
   "outputs": [],
   "source": [
    "from langchain_community.tools.tavily_search import TavilySearchResults\n",
    "from langchain_core.messages import HumanMessage\n",
    "from langgraph.checkpoint.memory import MemorySaver\n",
    "from langgraph.prebuilt import create_react_agent"
   ]
  },
  {
   "cell_type": "code",
   "execution_count": 54,
   "metadata": {},
   "outputs": [],
   "source": [
    "memory = MemorySaver()"
   ]
  },
  {
   "cell_type": "code",
   "execution_count": 69,
   "metadata": {},
   "outputs": [],
   "source": [
    "search=TavilySearchResults(max_results=2)"
   ]
  },
  {
   "cell_type": "code",
   "execution_count": 56,
   "metadata": {},
   "outputs": [
    {
     "data": {
      "text/plain": [
       "[{'url': 'https://www.drpramodsawant.in/',\n",
       "  'content': \"Welcome to the official website of Dr. Pramod Sawant, the esteemed Chief Minister of Goa. Discover a comprehensive source of information and insights on the visionary leader who is shaping the future of Goa. Explore the latest news, updates, and announcements on the Chief Minister's policies, initiatives, and achievements. Gain valuable insights into the workings of the state government of Goa\"},\n",
       " {'url': 'https://www.jagranjosh.com/general-knowledge/list-of-chief-ministers-of-goa-1642661466-1',\n",
       "  'content': 'List of Chief Ministers of Goa: Chief Minister is the head of the government at the state level and also a real executive. He is assisted by his council of ministers along with Governor and'}]"
      ]
     },
     "execution_count": 56,
     "metadata": {},
     "output_type": "execute_result"
    }
   ],
   "source": [
    "search.run(\"chief minister of goa\")"
   ]
  },
  {
   "cell_type": "code",
   "execution_count": 57,
   "metadata": {},
   "outputs": [],
   "source": [
    "tools=[search]"
   ]
  },
  {
   "cell_type": "code",
   "execution_count": 58,
   "metadata": {},
   "outputs": [],
   "source": [
    "agent_executor=create_react_agent(model,tools,checkpointer=memory)"
   ]
  },
  {
   "cell_type": "code",
   "execution_count": 59,
   "metadata": {},
   "outputs": [],
   "source": [
    "config={\"configurable\": {\"thread_id\":\"abc123\"}}"
   ]
  },
  {
   "cell_type": "code",
   "execution_count": 73,
   "metadata": {},
   "outputs": [
    {
     "name": "stdout",
     "output_type": "stream",
     "text": [
      "{'agent': {'messages': [AIMessage(content='Hello Sage! How can I help you today?', additional_kwargs={}, response_metadata={'prompt_feedback': {'block_reason': 0, 'safety_ratings': []}, 'finish_reason': 'STOP', 'safety_ratings': [{'category': 'HARM_CATEGORY_SEXUALLY_EXPLICIT', 'probability': 'NEGLIGIBLE', 'blocked': False}, {'category': 'HARM_CATEGORY_HATE_SPEECH', 'probability': 'NEGLIGIBLE', 'blocked': False}, {'category': 'HARM_CATEGORY_HARASSMENT', 'probability': 'NEGLIGIBLE', 'blocked': False}, {'category': 'HARM_CATEGORY_DANGEROUS_CONTENT', 'probability': 'NEGLIGIBLE', 'blocked': False}]}, id='run-dafc23f2-528e-434a-aebb-07abd9b48700-0', usage_metadata={'input_tokens': 2423, 'output_tokens': 10, 'total_tokens': 2433, 'input_token_details': {'cache_read': 0}})]}}\n",
      "----\n"
     ]
    }
   ],
   "source": [
    "for chunk in agent_executor.stream({\"messages\":[HumanMessage(content=\"hi it's Sage here! and I live in Goa \")]},config):\n",
    "    print(chunk)\n",
    "    print(\"----\")"
   ]
  },
  {
   "cell_type": "code",
   "execution_count": 72,
   "metadata": {},
   "outputs": [
    {
     "name": "stdout",
     "output_type": "stream",
     "text": [
      "{'agent': {'messages': [AIMessage(content='', additional_kwargs={'function_call': {'name': 'tavily_search_results_json', 'arguments': '{\"query\": \"What is the exact name of the current Chief Minister of Goa?\"}'}}, response_metadata={'prompt_feedback': {'block_reason': 0, 'safety_ratings': []}, 'finish_reason': 'STOP', 'safety_ratings': [{'category': 'HARM_CATEGORY_DANGEROUS_CONTENT', 'probability': 'NEGLIGIBLE', 'blocked': False}, {'category': 'HARM_CATEGORY_HARASSMENT', 'probability': 'NEGLIGIBLE', 'blocked': False}, {'category': 'HARM_CATEGORY_HATE_SPEECH', 'probability': 'NEGLIGIBLE', 'blocked': False}, {'category': 'HARM_CATEGORY_SEXUALLY_EXPLICIT', 'probability': 'NEGLIGIBLE', 'blocked': False}]}, id='run-814c367b-1c6e-42ce-88f1-374d525c0316-0', tool_calls=[{'name': 'tavily_search_results_json', 'args': {'query': 'What is the exact name of the current Chief Minister of Goa?'}, 'id': 'adaff95f-5147-443f-91ef-4e9c7e236632', 'type': 'tool_call'}], usage_metadata={'input_tokens': 1619, 'output_tokens': 32, 'total_tokens': 1651, 'input_token_details': {'cache_read': 0}})]}}\n",
      "----\n",
      "{'tools': {'messages': [ToolMessage(content='[{\"url\": \"https://www.jagranjosh.com/general-knowledge/list-of-chief-ministers-of-goa-1642661466-1\", \"content\": \"List of Chief Ministers of Goa (1987 - 2022) List of Chief Ministers of Goa(1987 - 2022) Let us have a look at the list of Chief Ministers of Goa from 1987 to 2022. List of Chief Ministers of Goa List of Chief Ministers of Goa: Pramod Sawant will continue as the Chief Minister of Goa for the second term. Maharashtrawadi Gomantak Party\\'s Dayanand Bandodkar took the oath as the first Chief Minister of Goa on 20 December 1963. List of Chief Ministers of Goa, Daman, and Diu List of Chief Ministers of Goa Who was the first Chief Minister of Goa, Daman, and Diu? Who is the current Chief Minister of Goa? Pramod Sawant is the current Chief Minister of Goa.\"}, {\"url\": \"https://en.wikipedia.org/wiki/Pramod_Sawant\", \"content\": \"Contents\\\\nPramod Sawant\\\\nPramod Pandurang Sawant\\\\n(born Pramod Panduronga Sawant; 24 April 1973) is an Indian politician and ayurveda medical practitioner, who is serving as the 11th and current Chief Minister of Goa since 2019.[1][2] He represents the Sanquelim constituency in the Goa Legislative Assembly from the Bharatiya Janata Party since 2012.[3]\\\\nEarly life and education[edit]\\\\nSawant was born on 24 April 1973 in Mapusa, Goa to Panduronga Govind Sawant (later Pandurang Sawant)[4] and Padminim P. Sawant as Pramod Panduronga He obtained a Bachelor of Ayurveda, Medicine and Surgery degree from the Ganga Education Society\\'s Ayurvedic Medical College in Kolhapur and a postgraduate degree of Master of Social Work from the Tilak Maharashtra University at Pune.[6]\\\\nPolitical career[edit]\\\\nSawant started his electoral career when he contested the 2008 Pale Constituency\\\\nby-election on Bharatiya Janta Party ticket and lost to Pratap Prabhakar Gauns of Indian National Congress.[7] On 22 March 2017, he was elected as the Speaker of the Goa Legislative Assembly.[9]\\\\nChief Minister of Goa[edit]\\\\nAfter the demise of Manohar Parrikar, the seat of the Chief Minister of Goa fell vacant. Pramod Sawant was elected by the Legislative Assembly afterwards and later he was sworn in as the 13th Chief Minister of Goa on 19 March 2019.[10][11][12]\\\\nPersonal life[edit]\\\\nSawant is a Maratha by caste.[10] On 28 May 2005, he married Sulakshana,[13] a teacher of chemistry[14] at the Shri Shantadurga Higher Secondary School in Bicholim. She is also a leader of the Bharatiya Janata Party and currently the President[15] of the Goa unit of the BJP Mahila Morcha.[16][17]\"}]', name='tavily_search_results_json', id='1f6046fd-31d0-406f-8508-02026b84a492', tool_call_id='adaff95f-5147-443f-91ef-4e9c7e236632', artifact={'query': 'What is the exact name of the current Chief Minister of Goa?', 'follow_up_questions': None, 'answer': None, 'images': [], 'results': [{'title': 'List of Chief Ministers of Goa(1987 - 2022) - Jagran Josh', 'url': 'https://www.jagranjosh.com/general-knowledge/list-of-chief-ministers-of-goa-1642661466-1', 'content': \"List of Chief Ministers of Goa (1987 - 2022) List of Chief Ministers of Goa(1987 - 2022) Let us have a look at the list of Chief Ministers of Goa from 1987 to 2022. List of Chief Ministers of Goa List of Chief Ministers of Goa: Pramod Sawant will continue as the Chief Minister of Goa for the second term. Maharashtrawadi Gomantak Party's Dayanand Bandodkar took the oath as the first Chief Minister of Goa on 20 December 1963. List of Chief Ministers of Goa, Daman, and Diu List of Chief Ministers of Goa Who was the first Chief Minister of Goa, Daman, and Diu? Who is the current Chief Minister of Goa? Pramod Sawant is the current Chief Minister of Goa.\", 'score': 0.998835, 'raw_content': None}, {'title': 'Pramod Sawant - Wikipedia', 'url': 'https://en.wikipedia.org/wiki/Pramod_Sawant', 'content': \"Contents\\nPramod Sawant\\nPramod Pandurang Sawant\\n(born Pramod Panduronga Sawant; 24 April 1973) is an Indian politician and ayurveda medical practitioner, who is serving as the 11th and current Chief Minister of Goa since 2019.[1][2] He represents the Sanquelim constituency in the Goa Legislative Assembly from the Bharatiya Janata Party since 2012.[3]\\nEarly life and education[edit]\\nSawant was born on 24 April 1973 in Mapusa, Goa to Panduronga Govind Sawant (later Pandurang Sawant)[4] and Padminim P. Sawant as Pramod Panduronga He obtained a Bachelor of Ayurveda, Medicine and Surgery degree from the Ganga Education Society's Ayurvedic Medical College in Kolhapur and a postgraduate degree of Master of Social Work from the Tilak Maharashtra University at Pune.[6]\\nPolitical career[edit]\\nSawant started his electoral career when he contested the 2008 Pale Constituency\\nby-election on Bharatiya Janta Party ticket and lost to Pratap Prabhakar Gauns of Indian National Congress.[7] On 22 March 2017, he was elected as the Speaker of the Goa Legislative Assembly.[9]\\nChief Minister of Goa[edit]\\nAfter the demise of Manohar Parrikar, the seat of the Chief Minister of Goa fell vacant. Pramod Sawant was elected by the Legislative Assembly afterwards and later he was sworn in as the 13th Chief Minister of Goa on 19 March 2019.[10][11][12]\\nPersonal life[edit]\\nSawant is a Maratha by caste.[10] On 28 May 2005, he married Sulakshana,[13] a teacher of chemistry[14] at the Shri Shantadurga Higher Secondary School in Bicholim. She is also a leader of the Bharatiya Janata Party and currently the President[15] of the Goa unit of the BJP Mahila Morcha.[16][17]\", 'score': 0.998259, 'raw_content': None}], 'response_time': 1.54})]}}\n",
      "----\n",
      "{'agent': {'messages': [AIMessage(content='The exact name of the current Chief Minister of Goa is Pramod Pandurang Sawant.', additional_kwargs={}, response_metadata={'prompt_feedback': {'block_reason': 0, 'safety_ratings': []}, 'finish_reason': 'STOP', 'safety_ratings': [{'category': 'HARM_CATEGORY_SEXUALLY_EXPLICIT', 'probability': 'NEGLIGIBLE', 'blocked': False}, {'category': 'HARM_CATEGORY_HATE_SPEECH', 'probability': 'NEGLIGIBLE', 'blocked': False}, {'category': 'HARM_CATEGORY_HARASSMENT', 'probability': 'NEGLIGIBLE', 'blocked': False}, {'category': 'HARM_CATEGORY_DANGEROUS_CONTENT', 'probability': 'NEGLIGIBLE', 'blocked': False}]}, id='run-a1b2b96f-77c0-41a9-9e2c-aede46778c84-0', usage_metadata={'input_tokens': 2390, 'output_tokens': 18, 'total_tokens': 2408, 'input_token_details': {'cache_read': 0}})]}}\n",
      "----\n"
     ]
    }
   ],
   "source": [
    "for chunk in agent_executor.stream({\"messages\":[HumanMessage(content=\"IMPORTANT: Use the Tavily search tool to find the exact name of the current Chief Minister of Goa. Search for the most recent, official information about the current Chief Minister of Goa state in India.\")]},config):\n",
    "    print(chunk)\n",
    "    print(\"----\")"
   ]
  },
  {
   "cell_type": "code",
   "execution_count": null,
   "metadata": {},
   "outputs": [],
   "source": []
  }
 ],
 "metadata": {
  "kernelspec": {
   "display_name": "Python 3",
   "language": "python",
   "name": "python3"
  },
  "language_info": {
   "codemirror_mode": {
    "name": "ipython",
    "version": 3
   },
   "file_extension": ".py",
   "mimetype": "text/x-python",
   "name": "python",
   "nbconvert_exporter": "python",
   "pygments_lexer": "ipython3",
   "version": "3.10.15"
  }
 },
 "nbformat": 4,
 "nbformat_minor": 2
}
